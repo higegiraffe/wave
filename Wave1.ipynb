{
  "nbformat": 4,
  "nbformat_minor": 0,
  "metadata": {
    "colab": {
      "name": "Wave1.ipynb",
      "version": "0.3.2",
      "provenance": [],
      "collapsed_sections": [],
      "include_colab_link": true
    },
    "kernelspec": {
      "name": "python3",
      "display_name": "Python 3"
    }
  },
  "cells": [
    {
      "cell_type": "markdown",
      "metadata": {
        "id": "view-in-github",
        "colab_type": "text"
      },
      "source": [
        "<a href=\"https://colab.research.google.com/github/higegiraffe/wave/blob/master/Wave1.ipynb\" target=\"_parent\"><img src=\"https://colab.research.google.com/assets/colab-badge.svg\" alt=\"Open In Colab\"/></a>"
      ]
    },
    {
      "metadata": {
        "id": "uZqagwct2bxM",
        "colab_type": "code",
        "colab": {}
      },
      "cell_type": "code",
      "source": [
        "pip install swan"
      ],
      "execution_count": 0,
      "outputs": []
    },
    {
      "metadata": {
        "id": "cbsj_JMUbHnD",
        "colab_type": "code",
        "colab": {}
      },
      "cell_type": "code",
      "source": [
        "import wave\n",
        "import struct\n",
        "from scipy import fromstring, int16\n",
        "from scipy import signal\n",
        "from swan import pycwt\n",
        "import numpy as np\n",
        "from pylab import *\n",
        "%matplotlib inline"
      ],
      "execution_count": 0,
      "outputs": []
    },
    {
      "metadata": {
        "id": "Z45A7ZujcPFP",
        "colab_type": "code",
        "colab": {}
      },
      "cell_type": "code",
      "source": [
        "# ローカルファイルを直接アップロードする\n",
        "from google.colab import files\n",
        "uploaded = files.upload()"
      ],
      "execution_count": 0,
      "outputs": []
    },
    {
      "metadata": {
        "id": "F3BqFhBZcBxj",
        "colab_type": "code",
        "colab": {}
      },
      "cell_type": "code",
      "source": [
        "ls"
      ],
      "execution_count": 0,
      "outputs": []
    },
    {
      "metadata": {
        "id": "K37sz-93bT4_",
        "colab_type": "code",
        "colab": {}
      },
      "cell_type": "code",
      "source": [
        "# 読み込みするWaveファイル指定\n",
        "\n",
        "wavfile0 = '07_off.wav'\n",
        "wavfile1 = '07_af.wav'"
      ],
      "execution_count": 0,
      "outputs": []
    },
    {
      "metadata": {
        "id": "W3gLaiDYbkE8",
        "colab_type": "code",
        "colab": {}
      },
      "cell_type": "code",
      "source": [
        "#Waveファイルの読み込み\n",
        "\n",
        "wr0 = wave.open(wavfile0, 'rb')\n",
        "ch0 = wr0.getnchannels()\n",
        "width0 = wr0.getsampwidth()\n",
        "fr0 = wr0.getframerate()\n",
        "fn0 = wr0.getnframes()\n",
        "\n",
        "origin0 = wr0.readframes(-1)\n",
        "# data = origin[:fn * ch * width]\n",
        "wr0.close()\n",
        "\n",
        "wr1 = wave.open(wavfile1, 'rb')\n",
        "ch1 = wr1.getnchannels()\n",
        "width1 = wr1.getsampwidth()\n",
        "fr1 = wr1.getframerate()\n",
        "fn1 = wr1.getnframes()\n",
        "\n",
        "origin1 = wr1.readframes(-1)\n",
        "# data = origin[:fn * ch * width]\n",
        "wr1.close()"
      ],
      "execution_count": 0,
      "outputs": []
    },
    {
      "metadata": {
        "id": "Zv3P8C4-g6Md",
        "colab_type": "code",
        "colab": {}
      },
      "cell_type": "code",
      "source": [
        "#Waveファイル情報表示\n",
        "\n",
        "print(wavfile0)\n",
        "print('チャンネル', ch0)\n",
        "print('サンプルサイズ',width0)\n",
        "print('フレームレート',fr0)\n",
        "print('フレーム数', fn0)\n",
        "print('サンプル時間', fn0 / fr0, '秒')\n",
        "print('   ')\n",
        "print(wavfile1)\n",
        "print('チャンネル', ch1)\n",
        "print('サンプルサイズ',width1)\n",
        "print('フレームレート',fr1)\n",
        "print('フレーム数', fn1)\n",
        "print('サンプル時間', fn1 / fr1, '秒')"
      ],
      "execution_count": 0,
      "outputs": []
    },
    {
      "metadata": {
        "id": "AV0FVWPMh0su",
        "colab_type": "code",
        "colab": {}
      },
      "cell_type": "code",
      "source": [
        "# LRチャンネル分けて、データ読み込み\n",
        "\n",
        "if width0 == 2:\n",
        "    X0 = np.frombuffer(origin0, dtype='int16')\n",
        "    X0 = X0 / 32768.0\n",
        "elif width0 == 4:\n",
        "    X0 = np.frombuffer(origin0, dtype='int32')\n",
        "    X0 = X0 / 2147483648.0\n",
        "left0 = X0[::2]\n",
        "right0 = X0[1::2]\n",
        "\n",
        "\n",
        "if width1 == 2:\n",
        "    X1 = np.frombuffer(origin1, dtype='int16')\n",
        "    X1 = X1 / 32768.0\n",
        "elif width1 == 4:\n",
        "    X1 = np.frombuffer(origin1, dtype='int32')\n",
        "    X1 = X1 / 2147483648.0\n",
        "left1 = X1[::2]\n",
        "right1 = X1[1::2]"
      ],
      "execution_count": 0,
      "outputs": []
    },
    {
      "metadata": {
        "id": "yvhPSwWt3Yo3",
        "colab_type": "code",
        "colab": {}
      },
      "cell_type": "code",
      "source": [
        "#Wavr波形の表示\n",
        "\n",
        "length0 = fn0 / fr0                        # 音声の長さ(sec)\n",
        "time0 = np.arange(0, length0, 1 / fr0)       # 各サンプルに対応する時刻の列\n",
        "\n",
        "plt.figure(figsize=(16, 10))\n",
        "\n",
        "plt.subplot(3,1,1)\n",
        "#plt.figure(figsize=(4, 4))\n",
        "plt.plot(time0, left0)                    # 音声波形の表示\n",
        "plt.title('waveform of silent')           # タイトル設定\n",
        "plt.xlabel('time[s]')                     # 横軸ラベル設定\n",
        "plt.ylabel('amplitude')                   # 縦軸ラベル設定\n",
        "#plt.ylim([-0.015, 0.015])                         # 縦軸表示範囲設定\n",
        "# plt.xlim([0, 0.01])                      # 横軸表示範囲設定\n",
        "\n",
        "#plt.subplot(2,1,2)\n",
        "#plt.plot(time, right)\n",
        "#plt.title('waveform of right')            # タイトル設定\n",
        "#plt.xlabel('time[s]')                     # 横軸ラベル設定\n",
        "#plt.ylabel('amplitude')                   # 縦軸ラベル設定\n",
        "# plt.ylim([-1, 1])                         # 縦軸表示範囲設定\n",
        "# plt.xlim([1, 1.01])　　　　　　　　　　　# 横軸表示範囲設定\n",
        "\n",
        "length1 = fn1 / fr1                        # 音声の長さ(sec)\n",
        "time1 = np.arange(0, length1, 1 / fr1)       # 各サンプルに対応する時刻の列\n",
        "\n",
        "plt.subplot(3,1,2)\n",
        "plt.plot(time1, left1)                    # 音声波形の表示\n",
        "plt.title('waveform of AF')           # タイトル設定\n",
        "plt.xlabel('time[s]')                     # 横軸ラベル設定\n",
        "plt.ylabel('amplitude')                   # 縦軸ラベル設定\n",
        "#plt.ylim([-0.015, 0.015])                         # 縦軸表示範囲設定\n",
        "# plt.xlim([0, 0.01])                      # 横軸表示範囲設定\n",
        "\n",
        "plt.subplot(3,1,3)\n",
        "plt.plot(time0, left0)                    # 音声波形の表示\n",
        "plt.plot(time1, left1,linewidth = 1,alpha = 0.6)       # 音声波形の表示\n",
        "plt.title('waveform of silent and AF')           # タイトル設定\n",
        "plt.xlabel('time[s]')                     # 横軸ラベル設定\n",
        "plt.ylabel('amplitude')                   # 縦軸ラベル設定\n",
        "#plt.ylim([-0.015, 0.015])                         # 縦軸表示範囲設定\n",
        "# plt.xlim([0, 0.01])                      # 横軸表示範囲設定\n",
        "\n",
        "\n",
        "plt.tight_layout()  # タイトルの被りを防ぐ\n",
        "\n",
        "#plt.show()\n",
        "# save as png\n",
        "plt.savefig('Wave.png')"
      ],
      "execution_count": 0,
      "outputs": []
    },
    {
      "metadata": {
        "id": "c0aq9fgzx4NU",
        "colab_type": "code",
        "colab": {}
      },
      "cell_type": "code",
      "source": [
        "from google.colab import files\n",
        "files.download('Wave.png')"
      ],
      "execution_count": 0,
      "outputs": []
    },
    {
      "metadata": {
        "id": "xM-acPmuKA80",
        "colab_type": "code",
        "colab": {}
      },
      "cell_type": "code",
      "source": [
        "#包絡線での波形表示\n",
        "\n",
        "left0_env = abs(signal.hilbert(left0))\n",
        "left1_env = abs(signal.hilbert(left1))\n",
        "\n",
        "plt.figure(figsize=(16, 10))\n",
        "\n",
        "plt.subplot(3,1,1)\n",
        "plt.plot(time0,left0)\n",
        "plt.plot(time0,left0_env,linewidth = 1,alpha = 0.6)\n",
        "plt.title('envelope of silent')           # タイトル設定\n",
        "plt.xlabel('time[s]')                     # 横軸ラベル設定\n",
        "plt.ylabel('amplitude')                   # 縦軸ラベル設定\n",
        "#plt.ylim([-0.015, 0.015])                         # 縦軸表示範囲設定\n",
        "#plt.xlim([0, 0.2])                         # 横軸表示範囲設定\n",
        "\n",
        "plt.subplot(3,1,2)\n",
        "plt.plot(time1,left1)\n",
        "plt.plot(time1,left1_env,linewidth = 1,alpha = 0.6)\n",
        "plt.title('envelope of AF')           # タイトル設定\n",
        "plt.xlabel('time[s]')                     # 横軸ラベル設定\n",
        "plt.ylabel('amplitude')                   # 縦軸ラベル設定\n",
        "#plt.ylim([-0.015, 0.015])                         # 縦軸表示範囲設定\n",
        "#plt.xlim([0, 0.2])                         # 横軸表示範囲設定\n",
        "\n",
        "plt.subplot(3,1,3)\n",
        "plt.plot(time0,left0_env)\n",
        "plt.plot(time1,left1_env,linewidth = 1,alpha = 0.6)\n",
        "plt.title('envelope of silent and AF')           # タイトル設定\n",
        "plt.xlabel('time[s]')                     # 横軸ラベル設定\n",
        "plt.ylabel('amplitude')                   # 縦軸ラベル設定\n",
        "#plt.ylim([0, 0.015])                         # 縦軸表示範囲設定\n",
        "#plt.xlim([0, 0.2])                         # 横軸表示範囲設定\n",
        "\n",
        "plt.tight_layout()  # タイトルの被りを防ぐ\n",
        "\n",
        "#plt.show()\n",
        "# save as png\n",
        "plt.savefig('Envelope.png')"
      ],
      "execution_count": 0,
      "outputs": []
    },
    {
      "metadata": {
        "id": "E10F7EPxxGEu",
        "colab_type": "code",
        "colab": {}
      },
      "cell_type": "code",
      "source": [
        "from google.colab import files\n",
        "files.download('Envelope.png')"
      ],
      "execution_count": 0,
      "outputs": []
    },
    {
      "metadata": {
        "id": "Q8eITQzmaGxZ",
        "colab_type": "code",
        "colab": {}
      },
      "cell_type": "code",
      "source": [
        "#包絡線での、ピークレベル表示　(dBFS)\n",
        "\n",
        "#ピーク値を検索\n",
        "l0_peak_env = max(left0_env)\n",
        "\n",
        "l1_peak_env = max(left1_env)\n",
        "  \n",
        "#ピーク値をdBFS換算\n",
        "l0_peak_env_dbfs = 20*log(l0_peak_env)/log(10)\n",
        "\n",
        "l1_peak_env_dbfs = 20*log(l1_peak_env)/log(10)\n",
        "\n",
        "print('Computing signal envelope')\n",
        "print('peak of silent dBFS =',l0_peak_env_dbfs)\n",
        "print('peak of AF dBFS =',l1_peak_env_dbfs)\n",
        "print('peak of AF-silent dB =',l1_peak_env_dbfs-l0_peak_env_dbfs)"
      ],
      "execution_count": 0,
      "outputs": []
    },
    {
      "metadata": {
        "id": "fLIwaqWSG0DF",
        "colab_type": "code",
        "colab": {}
      },
      "cell_type": "code",
      "source": [
        "#ピークレベル表示　(dBFS)\n",
        "\n",
        "#ピーク値を検索\n",
        "l0_max = max(left0)\n",
        "l0_min = min(left0)\n",
        "\n",
        "if abs(l0_max) > abs(l0_min):\n",
        "  l0_peak = abs(l0_max)\n",
        "else:\n",
        "  l0_peak = abs(l0_min)\n",
        " \n",
        "#r_max = max(right)\n",
        "#r_min = min(right)\n",
        "#if abs(r_max) > abs(r_min):\n",
        "#  r_peak = abs(r_max)\n",
        "#else:\n",
        "#  r_peak = abs(r_min)\n",
        "\n",
        "l1_max = max(left1)\n",
        "l1_min = min(left1)\n",
        "\n",
        "if abs(l1_max) > abs(l1_min):\n",
        "  l1_peak = abs(l1_max)\n",
        "else:\n",
        "  l1_peak = abs(l1_min)\n",
        "\n",
        "  \n",
        "#ピーク値をdBFS換算\n",
        "l0_peak_dbfs = 20*log(l0_peak)/log(10)\n",
        "#r_peak_dbfs = 20*log(r_peak)/log(10)\n",
        "\n",
        "l1_peak_dbfs = 20*log(l1_peak)/log(10)\n",
        "\n",
        "print('peak of silent dBFS =',l0_peak_dbfs)\n",
        "print('peak of AF dBFS =',l1_peak_dbfs)\n",
        "print('peak of AF-silent dB =',l1_peak_dbfs-l0_peak_dbfs)"
      ],
      "execution_count": 0,
      "outputs": []
    },
    {
      "metadata": {
        "id": "E-OmA3uqi9mF",
        "colab_type": "code",
        "colab": {}
      },
      "cell_type": "code",
      "source": [
        "#波形のフーリエ変換\n",
        "\n",
        "print('silent 総サンプル数の２のｘ乗 =',(log(len(time0))/log(2)))    #総サンプル数の２のｘ乗\n",
        "n_00 = 0                                        # サンプリング開始位置(s)\n",
        "N0 = 2**(int(log(len(time0))/log(2))+1)             # サンプル数\n",
        "\n",
        "N0_d = int((N0 - (len(time0)))/2)\n",
        "\n",
        "left0_sq = np.zeros(N0)\n",
        "left0_sq[N0_d:(N0_d + len(time0))] = left0\n",
        "\n",
        "G0 = np.fft.fft(left0_sq[n_00:n_00+N0])                  # 高速フーリエ変換\n",
        "G0_abs = np.abs(G0)                            # 振幅スペクトル\n",
        "G0_abs_amp = G0_abs / N0 * 2                    # スペクトルを元の振幅にそろえる\n",
        "flist0 = np.fft.fftfreq(N0, d=1.0/fr0)             # 周波数リスト\n",
        "print(N0 / fr0)\n",
        "\n",
        "print('AF 総サンプル数の２のｘ乗 =',(log(len(time1))/log(2)))    #総サンプル数の２のｘ乗\n",
        "n_01 = 0                                        # サンプリング開始位置(s)\n",
        "N1 = 2**int(log(len(time1))/log(2)+1)             # サンプル数\n",
        "\n",
        "N1_d = int((N1 - (len(time1)))/2)\n",
        "\n",
        "left1_sq = np.zeros(N1)\n",
        "left1_sq[N1_d:(N1_d + len(time1))] = left1\n",
        "\n",
        "G1 = np.fft.fft(left1_sq[n_01:n_01+N1])                  # 高速フーリエ変換\n",
        "G1_abs = np.abs(G1)                            # 振幅スペクトル\n",
        "G1_abs_amp = G1_abs / N1 * 2                    # スペクトルを元の振幅にそろえる\n",
        "flist1 = np.fft.fftfreq(N1, d=1.0/fr1)             # 周波数リスト\n"
      ],
      "execution_count": 0,
      "outputs": []
    },
    {
      "metadata": {
        "id": "UdRn0oMRGCIb",
        "colab_type": "code",
        "colab": {}
      },
      "cell_type": "code",
      "source": [
        "G0_abs_amp_db = 20*log(G0_abs_amp)/log(10)     # dBFS換算\n",
        "G1_abs_amp_db = 20*log(G1_abs_amp)/log(10)     # dBFS換算"
      ],
      "execution_count": 0,
      "outputs": []
    },
    {
      "metadata": {
        "id": "DPmfZczGjJA3",
        "colab_type": "code",
        "colab": {}
      },
      "cell_type": "code",
      "source": [
        "# 振幅スペクトルを描画\n",
        "\n",
        "#スペクトル、リニア表示\n",
        "#plt.plot(flist0[:int(N0/2)], G0_abs_amp[:int(N0/2)], linestyle='-')\n",
        "\n",
        "#スペクトル、dBFS表示\n",
        "plt.figure(figsize=(16, 10))\n",
        "\n",
        "plt.subplot(3,1,1)\n",
        "plt.plot(flist0[:int(N0/2)], G0_abs_amp_db[:int(N0/2)], linestyle='-')\n",
        "plt.title('FFT of silent')           # タイトル設定\n",
        "plt.xlim([1, fr0/2]) \n",
        "plt.xlabel(\"Frequency [Hz]\")\n",
        "plt.ylabel(\"Amplitude spectrum\")\n",
        "ax = plt.gca()\n",
        "ax.set_xscale('log')\n",
        "plt.grid(which=\"both\")\n",
        "plt.ylim([-180, -40]) \n",
        "\n",
        "plt.subplot(3,1,2)\n",
        "plt.plot(flist1[:int(N1/2)], G1_abs_amp_db[:int(N1/2)], linestyle='-')\n",
        "plt.title('FFT of AF')           # タイトル設定\n",
        "plt.xlim([1, fr1/2]) \n",
        "plt.xlabel(\"Frequency [Hz]\")\n",
        "plt.ylabel(\"Amplitude spectrum\")\n",
        "ax = plt.gca()\n",
        "ax.set_xscale('log')\n",
        "plt.grid(which=\"both\")\n",
        "plt.ylim([-180, -40]) \n",
        "\n",
        "\n",
        "plt.subplot(3,1,3)\n",
        "plt.title('FFT of silent and AF')           # タイトル設定\n",
        "plt.plot(flist0[:int(N0/2)], G0_abs_amp_db[:int(N0/2)])\n",
        "plt.xlim([1, fr0/2]) \n",
        "\n",
        "plt.plot(flist1[:int(N1/2)], G1_abs_amp_db[:int(N1/2)],linewidth = 1,alpha = 0.6)\n",
        "#plt.xlim([1, fr1/2]) \n",
        "\n",
        "plt.xlabel(\"Frequency [Hz]\")\n",
        "plt.ylabel(\"Amplitude spectrum\")\n",
        "ax = plt.gca()\n",
        "ax.set_xscale('log')\n",
        "plt.grid(which=\"both\")\n",
        "plt.ylim([-180, -40]) \n",
        "\n",
        "plt.tight_layout()  # タイトルの被りを防ぐ\n",
        "\n",
        "\n",
        "#plt.show()\n",
        "# save as png\n",
        "plt.savefig('FFT.png')"
      ],
      "execution_count": 0,
      "outputs": []
    },
    {
      "metadata": {
        "id": "T8vLIsIav9km",
        "colab_type": "code",
        "colab": {}
      },
      "cell_type": "code",
      "source": [
        "from google.colab import files\n",
        "files.download('FFT.png')"
      ],
      "execution_count": 0,
      "outputs": []
    },
    {
      "metadata": {
        "id": "z22swN_lZatY",
        "colab_type": "code",
        "colab": {}
      },
      "cell_type": "code",
      "source": [
        "plt.figure(figsize=(16, 10))\n",
        "\n",
        "plt.subplot(3,1,1)\n",
        "plt.plot(flist0[:int(N1/2)], G0_abs_amp_db[:int(N0/2)]-G1_abs_amp_db[:int(N1/2)], linestyle='-')\n",
        "plt.title('FFT of AF-silent')           # タイトル設定\n",
        "plt.xlim([1, fr0/2]) \n",
        "plt.xlabel(\"Frequency [Hz]\")\n",
        "plt.ylabel(\"Amplitude spectrum\")\n",
        "ax = plt.gca()\n",
        "ax.set_xscale('log')\n",
        "plt.grid(which=\"minor\")\n",
        "#plt.ylim([-180, -40]) \n",
        "\n",
        "#plt.show()\n",
        "# save as png\n",
        "plt.savefig('FFT_delta.png')"
      ],
      "execution_count": 0,
      "outputs": []
    },
    {
      "metadata": {
        "id": "Nd9fmjo0byRm",
        "colab_type": "code",
        "colab": {}
      },
      "cell_type": "code",
      "source": [
        "from google.colab import files\n",
        "files.download('FFT_delta.png')"
      ],
      "execution_count": 0,
      "outputs": []
    },
    {
      "metadata": {
        "id": "Xrfjw1jq1KvG",
        "colab_type": "code",
        "colab": {}
      },
      "cell_type": "code",
      "source": [
        "Fs1 = fr1\n",
        "omega1 = 0.4\n",
        "# (1)　Freqを指定してcwt\n",
        "freqs1=np.arange(1,1000,1)\n",
        "r=pycwt.cwt_f(left1,freqs1,Fs1,pycwt.Morlet(omega1))\n",
        "rr=np.abs(r)\n",
        "\n",
        "plt.rcParams['figure.figsize'] = (20, 6)\n",
        "fig = plt.figure()\n",
        "ax1 = fig.add_axes([0.1, 0.75, 0.7, 0.2])\n",
        "ax2 = fig.add_axes([0.1, 0.1, 0.7, 0.60], sharex=ax1)\n",
        "ax3 = fig.add_axes([0.83, 0.1, 0.03, 0.6])\n",
        "\n",
        "ax1.plot(time1, left1, 'k')\n",
        "\n",
        "img = ax2.imshow(np.flipud(rr), extent=[0, time1[-1], freqs1[0], freqs1[-1]],\n",
        "                 aspect='auto', interpolation='nearest')\n",
        "\n",
        "twin_ax = ax2\n",
        "twin_ax.set_yscale('log')\n",
        "twin_ax.set_xlim(0, time1[-1])\n",
        "twin_ax.set_ylim(freqs1[0], freqs1[-1])\n",
        "ax2.tick_params(which='both', labelleft=False, left=False)\n",
        "twin_ax.tick_params(which='both', labelleft=True, left=True, labelright=False)\n",
        "\n",
        "fig.colorbar(img, cax=ax3)\n",
        "\n",
        "#plt.show()\n",
        "# save as png\n",
        "plt.savefig('Wavelet.png')"
      ],
      "execution_count": 0,
      "outputs": []
    },
    {
      "metadata": {
        "id": "4gnOhfmU83id",
        "colab_type": "code",
        "colab": {}
      },
      "cell_type": "code",
      "source": [
        "from google.colab import files\n",
        "files.download('Wavelet.png')"
      ],
      "execution_count": 0,
      "outputs": []
    }
  ]
}